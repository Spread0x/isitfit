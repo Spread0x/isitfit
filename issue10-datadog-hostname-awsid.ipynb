{
 "cells": [
  {
   "cell_type": "markdown",
   "metadata": {},
   "source": [
    "Datadog API only allows filtering by hostname.\n",
    "That's different than the AWS ID.\n",
    "\n",
    "To filter by AWS ID, looking at downloading the full host data and making key-value pairs of\n",
    "`hostname-aws_id` that can be reversed.\n",
    "\n",
    "For example, I have a host that has AWS ID `i-069a78`.\n",
    "Its hostname is also i-... by coincidence following the rules of\n",
    "https://docs.datadoghq.com/agent/faq/how-datadog-agent-determines-the-hostname/?tab=agentv6v7\n",
    "\n",
    "Here's a subset of the api result for this host\n",
    "\n",
    "```\n",
    "{\n",
    "\t'name': 'i-069a78',\n",
    "\t'tags_by_source': {\n",
    "\t\t'Datadog': ['host:i-069a78'],\n",
    "\t\t'Users': ['client:bsec', 'host:abcdef']\n",
    "\t},\n",
    "\t'meta': {\n",
    "\t\t'socket-hostname': 'ip-123-123-123-123',\n",
    "\t\t'host_id': 11111111,\n",
    "\t\t'socket-fqdn': 'ip-123-123-123-123.us-west-2.compute.internal.',\n",
    "\t},\n",
    "\t'host_name': 'i-069a78',\n",
    "\t'aws_id': 'i-069a78',\n",
    "\t'id': 11111111,\n",
    "\t'aliases': ['ip-123-123-123-123.us-west-2.compute.internal', 'i-069a78']\n",
    "}\n",
    "```"
   ]
  },
  {
   "cell_type": "code",
   "execution_count": null,
   "metadata": {},
   "outputs": [],
   "source": [
    "# Python 3.6.8 (default, Aug 20 2019, 17:12:48)\n",
    "import datadog\n",
    "datadog.initialize()\n",
    "datadog_api = datadog.api"
   ]
  },
  {
   "cell_type": "code",
   "execution_count": null,
   "metadata": {},
   "outputs": [],
   "source": [
    "# download full hostname-awsid map and reverse it\n",
    "h_all = datadog_api.Hosts.search()\n",
    "assert len(h_all['host_list']) > 0\n",
    "assert h_all['total_returned'] > 0\n",
    "\n",
    "# could use 'name' instead of 'host_name' in the below\n",
    "h_all = {x['aws_id']: x['host_name'] for x in h_all['host_list']}\n",
    "h_all"
   ]
  },
  {
   "cell_type": "code",
   "execution_count": null,
   "metadata": {},
   "outputs": [],
   "source": [
    "# go from aws_id to host_name\n",
    "aws_id = 'i-069a78' # real id truncated\n",
    "assert aws_id in h_all\n",
    "host_id = h_all[aws_id]\n",
    "host_id"
   ]
  },
  {
   "cell_type": "code",
   "execution_count": null,
   "metadata": {},
   "outputs": [],
   "source": [
    "h_search_filter = datadog_api.Hosts.search(filter='host:%s'%host_id)\n",
    "assert len(h_search_filter['host_list']) > 0\n",
    "assert h_search_filter['total_returned'] == 1\n",
    "# assert h_search_filter['host_list'][0]['name']==host_id\n",
    "assert h_search_filter['host_list'][0]['host_name']==host_id\n",
    "\n",
    "h_search_filter"
   ]
  },
  {
   "cell_type": "code",
   "execution_count": null,
   "metadata": {},
   "outputs": [],
   "source": []
  }
 ],
 "metadata": {
  "kernelspec": {
   "display_name": "Python 3",
   "language": "python",
   "name": "python3"
  },
  "language_info": {
   "codemirror_mode": {
    "name": "ipython",
    "version": 3
   },
   "file_extension": ".py",
   "mimetype": "text/x-python",
   "name": "python",
   "nbconvert_exporter": "python",
   "pygments_lexer": "ipython3",
   "version": "3.6.8"
  }
 },
 "nbformat": 4,
 "nbformat_minor": 2
}
